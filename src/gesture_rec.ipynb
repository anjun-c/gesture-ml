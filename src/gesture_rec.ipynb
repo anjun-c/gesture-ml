{
 "cells": [
  {
   "cell_type": "code",
   "execution_count": 79,
   "metadata": {},
   "outputs": [],
   "source": [
    "import torch\n",
    "import torch.nn as nn\n",
    "import torch.optim as optim\n",
    "import torchvision.transforms as transforms\n",
    "import torchvision.datasets as datasets\n",
    "from torch.utils.data import DataLoader\n",
    "import numpy as np"
   ]
  },
  {
   "cell_type": "code",
   "execution_count": 80,
   "metadata": {},
   "outputs": [],
   "source": [
    "# Define the CNN model\n",
    "num_classes = 20\n",
    "\n",
    "class GestureRecognitionModel(nn.Module):\n",
    "    def __init__(self):\n",
    "        super(GestureRecognitionModel, self).__init__()\n",
    "        self.fc1 = nn.Linear(7500, 128)\n",
    "        self.dropout1 = nn.Dropout(0.5)\n",
    "        self.fc2 = nn.Linear(128, 64)\n",
    "        self.dropout2 = nn.Dropout(0.5)\n",
    "        self.fc3 = nn.Linear(64, num_classes)\n",
    "    \n",
    "    def forward(self, x):\n",
    "        x = torch.flatten(x, start_dim=1)\n",
    "        x = torch.relu(self.fc1(x))\n",
    "        x = self.dropout1(x)\n",
    "        x = torch.relu(self.fc2(x))\n",
    "        x = self.dropout2(x)\n",
    "        x = self.fc3(x)\n",
    "        return x"
   ]
  },
  {
   "cell_type": "code",
   "execution_count": 81,
   "metadata": {},
   "outputs": [],
   "source": [
    "model = GestureRecognitionModel()\n",
    "\n",
    "optimizer = optim.Adam(model.parameters(), lr=0.001)\n",
    "criterion = nn.CrossEntropyLoss()"
   ]
  },
  {
   "cell_type": "code",
   "execution_count": 82,
   "metadata": {},
   "outputs": [],
   "source": [
    "# from https://www.kaggle.com/datasets/aryarishabh/hand-gesture-recognition-dataset\n",
    "\n",
    "def load_gesture_data(data_dir, batch_size=900, image_size=(50, 50)):\n",
    "    \"\"\"\n",
    "    Load image data from a directory, applying necessary transforms.\n",
    "    Args:\n",
    "    - data_dir: the path to the data directory.\n",
    "    - batch_size: number of samples per batch.\n",
    "    - image_size: size to resize the images.\n",
    "\n",
    "    Returns:\n",
    "    - DataLoader for training and validation sets.\n",
    "    \"\"\"\n",
    "    \n",
    "    # Define the transformations for the training and validation data\n",
    "    data_transforms = {\n",
    "        'train': transforms.Compose([\n",
    "            transforms.Resize(image_size),\n",
    "            transforms.RandomResizedCrop(50),\n",
    "            transforms.RandomHorizontalFlip(),  # Augmentation for training data\n",
    "            transforms.ToTensor(),  # Convert images to PyTorch tensors\n",
    "            transforms.Normalize([0.485, 0.456, 0.406], [0.229, 0.224, 0.225])  # Normalize with mean and std dev\n",
    "        ]),\n",
    "        'val': transforms.Compose([\n",
    "            transforms.Resize(image_size),\n",
    "            transforms.ToTensor(),\n",
    "            transforms.Normalize([0.485, 0.456, 0.406], [0.229, 0.224, 0.225])\n",
    "        ])\n",
    "    }\n",
    "\n",
    "    # Load datasets using ImageFolder (it automatically assigns labels based on folder names)\n",
    "    image_datasets = {\n",
    "        'train': datasets.ImageFolder(root=data_dir + \"/train\", transform=data_transforms['train']),\n",
    "        'val': datasets.ImageFolder(root=data_dir + \"/test\", transform=data_transforms['val'])\n",
    "    }\n",
    "\n",
    "    # Create data loaders\n",
    "    dataloaders = {\n",
    "        'train': DataLoader(image_datasets['train'], batch_size=batch_size, shuffle=True),\n",
    "        'val': DataLoader(image_datasets['val'], batch_size=batch_size, shuffle=False)\n",
    "    }\n",
    "\n",
    "    return dataloaders"
   ]
  },
  {
   "cell_type": "code",
   "execution_count": 83,
   "metadata": {},
   "outputs": [
    {
     "data": {
      "text/plain": [
       "{'train': <torch.utils.data.dataloader.DataLoader at 0x1f4f93c7310>,\n",
       " 'val': <torch.utils.data.dataloader.DataLoader at 0x1f4f93c7cd0>}"
      ]
     },
     "execution_count": 83,
     "metadata": {},
     "output_type": "execute_result"
    }
   ],
   "source": [
    "load_gesture_data(\"../data/archive\", 900, (50,50))"
   ]
  },
  {
   "cell_type": "code",
   "execution_count": 84,
   "metadata": {},
   "outputs": [],
   "source": [
    "class EarlyStopping:\n",
    "    def __init__(self, patience=5, min_delta=0):\n",
    "        self.patience = patience\n",
    "        self.min_delta = min_delta\n",
    "        self.best_loss = None\n",
    "        self.counter = 0\n",
    "\n",
    "    def __call__(self, val_loss):\n",
    "        if self.best_loss is None:\n",
    "            self.best_loss = val_loss\n",
    "            return False\n",
    "\n",
    "        if val_loss < self.best_loss - self.min_delta:\n",
    "            self.best_loss = val_loss\n",
    "            self.counter = 0\n",
    "        else:\n",
    "            self.counter += 1\n",
    "\n",
    "        if self.counter >= self.patience:\n",
    "            return True\n",
    "\n",
    "        return False"
   ]
  },
  {
   "cell_type": "code",
   "execution_count": 85,
   "metadata": {},
   "outputs": [],
   "source": [
    "# Training loop\n",
    "def train_gesture_model(epochs=10, patience=4):\n",
    "    model.train()\n",
    "    dataloaders = load_gesture_data(\"../data/archive\", 900, (50,50))\n",
    "    train_loader = dataloaders['train']\n",
    "    val_loader = dataloaders['val']\n",
    "    early_stopping = EarlyStopping(patience=patience)\n",
    "\n",
    "    for epoch in range(epochs):\n",
    "        running_loss = 0.0\n",
    "        model.train()\n",
    "        for data, labels in train_loader:\n",
    "            # Forward pass\n",
    "            outputs = model(data)\n",
    "            loss = criterion(outputs, labels)\n",
    "\n",
    "            # Backward pass and optimization\n",
    "            optimizer.zero_grad()\n",
    "            loss.backward()\n",
    "            optimizer.step()\n",
    "\n",
    "            running_loss += loss.item()\n",
    "\n",
    "        epoch_loss = running_loss / len(train_loader)\n",
    "        print(f\"Epoch [{epoch+1}/{epochs}], Loss: {epoch_loss:.4f}\")\n",
    "\n",
    "        # Validation phase\n",
    "        model.eval()\n",
    "        val_loss = 0.0\n",
    "        with torch.no_grad():\n",
    "            for data, labels in val_loader:\n",
    "                outputs = model(data)\n",
    "                loss = criterion(outputs, labels)\n",
    "                val_loss += loss.item()\n",
    "\n",
    "        val_loss /= len(val_loader)\n",
    "        print(f\"Validation Loss: {val_loss:.4f}\")\n",
    "\n",
    "        # Check early stopping\n",
    "        if early_stopping(val_loss):\n",
    "            print(\"Early stopping\")\n",
    "            break"
   ]
  },
  {
   "cell_type": "code",
   "execution_count": 86,
   "metadata": {},
   "outputs": [
    {
     "name": "stdout",
     "output_type": "stream",
     "text": [
      "Epoch [1/10], Loss: 0.4285\n",
      "Validation Loss: 0.0000\n",
      "Epoch [2/10], Loss: 0.0012\n",
      "Validation Loss: 0.0000\n",
      "Epoch [3/10], Loss: 0.0004\n",
      "Validation Loss: 0.0000\n",
      "Epoch [4/10], Loss: 0.0003\n",
      "Validation Loss: 0.0000\n",
      "Epoch [5/10], Loss: 0.0004\n",
      "Validation Loss: 0.0000\n",
      "Early stopping\n"
     ]
    }
   ],
   "source": [
    "train_gesture_model()"
   ]
  },
  {
   "cell_type": "code",
   "execution_count": 87,
   "metadata": {},
   "outputs": [],
   "source": [
    "# Gesture recognition function (for real-time prediction)\n",
    "def recognize_gesture(landmarks):\n",
    "    model.eval()\n",
    "    with torch.no_grad():\n",
    "        landmarks = torch.tensor(landmarks, dtype=torch.float32).unsqueeze(0)  # Add batch dimension\n",
    "        output = model(landmarks)\n",
    "        _, predicted = torch.max(output.data, 1)\n",
    "        return predicted.item()"
   ]
  },
  {
   "cell_type": "code",
   "execution_count": 88,
   "metadata": {},
   "outputs": [],
   "source": [
    "# Example use in the main detection loop\n",
    "def gesture_recognition_integration(hand_landmarks):\n",
    "    if hand_landmarks:\n",
    "        landmarks_array = np.array([[lm.x, lm.y] for lm in hand_landmarks.landmark]).flatten()\n",
    "        predicted_gesture = recognize_gesture(landmarks_array)\n",
    "        return predicted_gesture\n",
    "    return None"
   ]
  }
 ],
 "metadata": {
  "kernelspec": {
   "display_name": "gesture_env",
   "language": "python",
   "name": "python3"
  },
  "language_info": {
   "codemirror_mode": {
    "name": "ipython",
    "version": 3
   },
   "file_extension": ".py",
   "mimetype": "text/x-python",
   "name": "python",
   "nbconvert_exporter": "python",
   "pygments_lexer": "ipython3",
   "version": "3.9.20"
  }
 },
 "nbformat": 4,
 "nbformat_minor": 2
}
