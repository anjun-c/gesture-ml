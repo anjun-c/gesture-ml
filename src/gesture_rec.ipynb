{
 "cells": [
  {
   "cell_type": "code",
   "execution_count": 1,
   "metadata": {},
   "outputs": [],
   "source": [
    "import torch\n",
    "import torch.nn as nn\n",
    "import torch.optim as optim\n",
    "import numpy as np"
   ]
  },
  {
   "cell_type": "code",
   "execution_count": 2,
   "metadata": {},
   "outputs": [],
   "source": [
    "# Define the CNN model\n",
    "class GestureRecognitionModel(nn.Module):\n",
    "    def __init__(self):\n",
    "        super(GestureRecognitionModel, self).__init__()\n",
    "        self.fc1 = nn.Linear(21 * 2, 128)  # 21 hand landmarks (x, y) pairs\n",
    "        self.fc2 = nn.Linear(128, 64)\n",
    "        self.fc3 = nn.Linear(64, 3)  # Assuming 3 classes: open hand, fist, swipe\n",
    "\n",
    "    def forward(self, x):\n",
    "        x = torch.flatten(x, start_dim=1)\n",
    "        x = torch.relu(self.fc1(x))\n",
    "        x = torch.relu(self.fc2(x))\n",
    "        x = self.fc3(x)\n",
    "        return x"
   ]
  },
  {
   "cell_type": "code",
   "execution_count": 3,
   "metadata": {},
   "outputs": [],
   "source": [
    "model = GestureRecognitionModel()\n",
    "\n",
    "optimizer = optim.Adam(model.parameters(), lr=0.001)\n",
    "criterion = nn.CrossEntropyLoss()"
   ]
  },
  {
   "cell_type": "code",
   "execution_count": 4,
   "metadata": {},
   "outputs": [],
   "source": [
    "# from https://www.kaggle.com/datasets/aryarishabh/hand-gesture-recognition-dataset\n",
    "\n",
    "def load_gesture_data(data_dir, batch_size=900, image_size=(50, 50)):\n",
    "    \"\"\"\n",
    "    Load image data from a directory, applying necessary transforms.\n",
    "    Args:\n",
    "    - data_dir: the path to the data directory.\n",
    "    - batch_size: number of samples per batch.\n",
    "    - image_size: size to resize the images.\n",
    "\n",
    "    Returns:\n",
    "    - DataLoader for training and validation sets.\n",
    "    \"\"\"\n",
    "    \n",
    "    # Define the transformations for the training and validation data\n",
    "    data_transforms = {\n",
    "        'train': transforms.Compose([\n",
    "            transforms.Resize(image_size),\n",
    "            transforms.RandomHorizontalFlip(),  # Augmentation for training data\n",
    "            transforms.ToTensor(),  # Convert images to PyTorch tensors\n",
    "            transforms.Normalize([0.485, 0.456, 0.406], [0.229, 0.224, 0.225])  # Normalize with mean and std dev\n",
    "        ]),\n",
    "        'val': transforms.Compose([\n",
    "            transforms.Resize(image_size),\n",
    "            transforms.ToTensor(),\n",
    "            transforms.Normalize([0.485, 0.456, 0.406], [0.229, 0.224, 0.225])\n",
    "        ])\n",
    "    }\n",
    "\n",
    "    # Load datasets using ImageFolder (it automatically assigns labels based on folder names)\n",
    "    image_datasets = {\n",
    "        'train': datasets.ImageFolder(root=f\"../data/archive/train\", transform=data_transforms['train']),\n",
    "        'val': datasets.ImageFolder(root=f\"../data/archive/test\", transform=data_transforms['val'])\n",
    "    }\n",
    "\n",
    "    # Create data loaders\n",
    "    dataloaders = {\n",
    "        'train': DataLoader(image_datasets['train'], batch_size=batch_size, shuffle=True),\n",
    "        'val': DataLoader(image_datasets['val'], batch_size=batch_size, shuffle=False)\n",
    "    }\n",
    "\n",
    "    return dataloaders"
   ]
  },
  {
   "cell_type": "code",
   "execution_count": 5,
   "metadata": {},
   "outputs": [],
   "source": [
    "# Training loop\n",
    "def train_gesture_model(epochs=10):\n",
    "    model.train()\n",
    "    for epoch in range(epochs):\n",
    "        # Load gesture data\n",
    "        data, labels = load_gesture_data()\n",
    "\n",
    "        # Forward pass\n",
    "        outputs = model(data)\n",
    "        loss = criterion(outputs, labels)\n",
    "\n",
    "        # Backward pass and optimization\n",
    "        optimizer.zero_grad()\n",
    "        loss.backward()\n",
    "        optimizer.step()\n",
    "\n",
    "        print(f\"Epoch [{epoch+1}/{epochs}], Loss: {loss.item():.4f}\")"
   ]
  },
  {
   "cell_type": "code",
   "execution_count": 6,
   "metadata": {},
   "outputs": [],
   "source": [
    "# Gesture recognition function (for real-time prediction)\n",
    "def recognize_gesture(landmarks):\n",
    "    model.eval()\n",
    "    with torch.no_grad():\n",
    "        landmarks = torch.tensor(landmarks, dtype=torch.float32).unsqueeze(0)  # Add batch dimension\n",
    "        output = model(landmarks)\n",
    "        _, predicted = torch.max(output.data, 1)\n",
    "        return predicted.item()"
   ]
  },
  {
   "cell_type": "code",
   "execution_count": 7,
   "metadata": {},
   "outputs": [],
   "source": [
    "# Example use in the main detection loop\n",
    "def gesture_recognition_integration(hand_landmarks):\n",
    "    if hand_landmarks:\n",
    "        landmarks_array = np.array([[lm.x, lm.y] for lm in hand_landmarks.landmark]).flatten()\n",
    "        predicted_gesture = recognize_gesture(landmarks_array)\n",
    "        return predicted_gesture\n",
    "    return None"
   ]
  }
 ],
 "metadata": {
  "kernelspec": {
   "display_name": "gesture_env",
   "language": "python",
   "name": "python3"
  },
  "language_info": {
   "codemirror_mode": {
    "name": "ipython",
    "version": 3
   },
   "file_extension": ".py",
   "mimetype": "text/x-python",
   "name": "python",
   "nbconvert_exporter": "python",
   "pygments_lexer": "ipython3",
   "version": "3.9.20"
  }
 },
 "nbformat": 4,
 "nbformat_minor": 2
}
