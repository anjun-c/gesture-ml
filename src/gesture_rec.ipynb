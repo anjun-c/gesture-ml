{
 "cells": [
  {
   "cell_type": "code",
   "execution_count": 1,
   "metadata": {},
   "outputs": [],
   "source": [
    "import torch\n",
    "import torch.nn as nn\n",
    "import torch.optim as optim\n",
    "import numpy as np"
   ]
  },
  {
   "cell_type": "code",
   "execution_count": null,
   "metadata": {},
   "outputs": [],
   "source": [
    "# Define the CNN model\n",
    "class GestureRecognitionModel(nn.Module):\n",
    "    def __init__(self):\n",
    "        super(GestureRecognitionModel, self).__init__()\n",
    "        self.fc1 = nn.Linear(21 * 2, 128)  # 21 hand landmarks (x, y) pairs\n",
    "        self.fc2 = nn.Linear(128, 64)\n",
    "        self.fc3 = nn.Linear(64, 3)  # Assuming 3 classes: open hand, fist, swipe\n",
    "\n",
    "    def forward(self, x):\n",
    "        x = torch.flatten(x, start_dim=1)\n",
    "        x = torch.relu(self.fc1(x))\n",
    "        x = torch.relu(self.fc2(x))\n",
    "        x = self.fc3(x)\n",
    "        return x"
   ]
  },
  {
   "cell_type": "code",
   "execution_count": null,
   "metadata": {},
   "outputs": [],
   "source": [
    "model = GestureRecognitionModel()\n",
    "\n",
    "optimizer = optim.Adam(model.parameters(), lr=0.001)\n",
    "criterion = nn.CrossEntropyLoss()"
   ]
  },
  {
   "cell_type": "code",
   "execution_count": null,
   "metadata": {},
   "outputs": [],
   "source": [
    "# dummy\n",
    "def load_gesture_data():\n",
    "    data = np.random.randn(100, 21, 2)  \n",
    "    labels = np.random.randint(0, 3, 100)  \n",
    "    return torch.tensor(data, dtype=torch.float32), torch.tensor(labels, dtype=torch.long)"
   ]
  },
  {
   "cell_type": "code",
   "execution_count": null,
   "metadata": {},
   "outputs": [],
   "source": [
    "# Training loop\n",
    "def train_gesture_model(epochs=10):\n",
    "    model.train()\n",
    "    for epoch in range(epochs):\n",
    "        # Load gesture data\n",
    "        data, labels = load_gesture_data()\n",
    "\n",
    "        # Forward pass\n",
    "        outputs = model(data)\n",
    "        loss = criterion(outputs, labels)\n",
    "\n",
    "        # Backward pass and optimization\n",
    "        optimizer.zero_grad()\n",
    "        loss.backward()\n",
    "        optimizer.step()\n",
    "\n",
    "        print(f\"Epoch [{epoch+1}/{epochs}], Loss: {loss.item():.4f}\")"
   ]
  },
  {
   "cell_type": "code",
   "execution_count": null,
   "metadata": {},
   "outputs": [],
   "source": [
    "# Gesture recognition function (for real-time prediction)\n",
    "def recognize_gesture(landmarks):\n",
    "    model.eval()\n",
    "    with torch.no_grad():\n",
    "        landmarks = torch.tensor(landmarks, dtype=torch.float32).unsqueeze(0)  # Add batch dimension\n",
    "        output = model(landmarks)\n",
    "        _, predicted = torch.max(output.data, 1)\n",
    "        return predicted.item()"
   ]
  },
  {
   "cell_type": "code",
   "execution_count": null,
   "metadata": {},
   "outputs": [],
   "source": [
    "# Example use in the main detection loop\n",
    "def gesture_recognition_integration(hand_landmarks):\n",
    "    if hand_landmarks:\n",
    "        landmarks_array = np.array([[lm.x, lm.y] for lm in hand_landmarks.landmark]).flatten()\n",
    "        predicted_gesture = recognize_gesture(landmarks_array)\n",
    "        return predicted_gesture\n",
    "    return None"
   ]
  }
 ],
 "metadata": {
  "kernelspec": {
   "display_name": "gesture-env",
   "language": "python",
   "name": "python3"
  },
  "language_info": {
   "codemirror_mode": {
    "name": "ipython",
    "version": 3
   },
   "file_extension": ".py",
   "mimetype": "text/x-python",
   "name": "python",
   "nbconvert_exporter": "python",
   "pygments_lexer": "ipython3",
   "version": "3.9.20"
  }
 },
 "nbformat": 4,
 "nbformat_minor": 2
}
